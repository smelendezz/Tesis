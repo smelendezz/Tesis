{
  "metadata": {
    "kernelspec": {
      "name": "python",
      "display_name": "Python (Pyodide)",
      "language": "python"
    },
    "language_info": {
      "codemirror_mode": {
        "name": "python",
        "version": 3
      },
      "file_extension": ".py",
      "mimetype": "text/x-python",
      "name": "python",
      "nbconvert_exporter": "python",
      "pygments_lexer": "ipython3",
      "version": "3.8"
    }
  },
  "nbformat_minor": 5,
  "nbformat": 4,
  "cells": [
    {
      "id": "3b322268-7674-4468-b99e-c519310bb05c",
      "cell_type": "markdown",
      "source": "# Hodoscópio con GEMs\n📓 Santiago Meléndez\n(smelendezz@unal.edu.co)\n\n## ⚠️Por Hacer⚠️\n**Revisar la sección Reuniones Remanales**\n> **Servicios**:\n> - Arreglar cable poder power box (U).\n> - Revisar PowerBox (No marca lectura corriente) \n> - Pedir escuadra ventilación\n\n> **Centelladores**:\n>\n>  - Gráfica Counts vs DAQ y determianción de threshold óptimo\n>  - Pruebas a cielo abierto con centelladores para encontrar distribución Angular.\n\n> **Al manual**\n>\n>  - Añadir glosario\n>  - Pedir a jesús data de los hybrids, año y fecha de compra. Agregar que chip Spartan es, año de los equipos en la descripción inical.\n\n\n> **Hodoscópio**\n>\n> - Refrigeración\n>- Ventilación deficiente, ventiladores poco útiles\n>  - Circulación del gas\n> -  Eficiencia condiciones\n\n\n> **Documento tésis**\n>\n> - Hacer mas gruesa la letra.\n\n> **GEMs**\n>\n>  - Buscar Graficas de presión vs eficiencia y otras que den parámetros optimos de configuración\n\n>**Centelladores**\n>\n> - Pruebas a cielo abierto con centelladores para encontrar distribución Angular. \n\n\n>**Programar**\n>\n> - Cambiar código de conversión a ROOT que pida nombre vmms y ajuste la conversión a python ✅\n> - Script lea temperatura en function de t y lo guarde\n\n\n\n\n\n\n\n\n\n\n## Dudas\n**Tesis Jairo**- `Pag 40 PDF` - Rango y resolución TDC\nQue es el rango?\n\nComo definir el threshold para el discriminador?\nTésis de Jairo: 150 mV (47, PDF) pero no explica el porqué.\nMide una eficiencia relativa en `sección 4.5`.\n\n\n\n\n## Comentarios destacados tésis Brayan\nPruebas para comprobar el aumento de la eficiencia en el hodoscópio. \nRealizar la calibración de cada uno de las tarjetas híbridas variar el umbral de las tarjetas híbridas y ajustar la ganancia de los mismos. \nMejorar el sistema de ventilación para optimizar la refrigeración de las tarjetas híbridas. Esto se puede lograr mediante la      implementación de un sistema de refrigeración por efecto Peltier o por refrigeración líquida. Estas mejoras permitirán aumentar la eficiencia de las tarjetas híbridas, las cuales a menudo presentaban fallos durante su uso.",
      "metadata": {}
    },
    {
      "id": "b9a04fe3-4a97-4caf-a237-53372ed405ec",
      "cell_type": "markdown",
      "source": "## Por Estudiar\n- Circuitos integrados básico\n\n- En slow control, que es warm InitFEC\n\n- Teoría de la interacción radiación y gas para el GEM.",
      "metadata": {
        "jp-MarkdownHeadingCollapsed": true
      }
    },
    {
      "id": "8fe5bdf2-904a-429d-a6fb-ee6ff5be1903",
      "cell_type": "markdown",
      "source": "\n# Bitácora\n\n## 01/28/25 Instalación fuentes de poder y Gas\n\nColocar barómetro antes de alimentar el GEM, monitorear presión constantemente\nEl Barómetro del cilindro debe subir a 1 bar (Escala interna).\n\n\nLED fuente CAEN con polaridad negativa\n\n\n1.\tCon las especificaciones de los 9 ventiladores se configuro el voltaje y corriente (12 V, 0,6 W – 0.4 A fuente).\n2.\tSe prende Power Crate atrás derecha. Verificar PMX enciendan con Corrientes menores a 1 A.\n3.\tEsperar 10 s \n4.\tCambiar IP FEC, usar 10.0.0.1, Poner No\n5.\tAñadir los 8 hybrids. (marcar casillas)\n6.\tAñadir los 2 VMM por cada hybrid (marcar casillas)\n7.\tOpen communication\n8.\tPoner send en parte izquierda VMM Slow Control cuando se realicen ajustes.\n9.\tLuego en FEC status poner link status\n10.\tEl 0 del barómetro está en 18.\n11.\tVerificar flujos gas con mano. (Verificar todo dos veces de dos formas distintas)\n\nVoltajes de las fuentes\nCAEN (Suministro de voltaje GEMs)\n\nTestee entre fase y tierra del GEM que el voltaje sea el suministrado\ncuando llegue a 100 V espere 1 minuto\nLa fuente roja es ideal para alto voltaje, en bajos voltajes no es muy precisa\nAl llegar a 500 revisar I y esperar 2 min\nAl llegar a 1kV revisar visualmente el GEM constantemente\nHybrid 1 y 2 mostraron problemas\n\n\n## 02/03/25 Construcción paleta centelladora y caracterización.\n\nSe toma la paleta centelladora con PMT Q1 y se desmonta, se limpian el plástico y el vidrio con un papel retirando la grasa Optica y se limpia con isopropanol únicamente el cristal del PMT, en caso de tener rayado el borde del centellador debe sr pulido.\n\nSe sigue:\n1. Se limpian las componentes con las condiciones descritas antes y se alistan todos los elementos: papel alumino, bases universales, cinta negra, tijeras, centellador, PM, grasa Optica, guantes, hojas para limpiar.\n2. Se retira la cubierta del tubo centellador.\n3. Se utilizan dos soportes, uno para el tubo fotomultiplicador y otro para la lamina centelladora, se montan en horizontal alineados.\n4. Se aplica grasa optica sobre la lámina centelladora, de forma que el largo del dedo se lleve paralelo a la apertura del cristal y se presiona el centelleador para que la grasa se extienda radialmente para formar un  Suave y delgada capa acoplando toda la superficie del centelleador al PM. \nSi algún exceso de grasa se derrama sobre los bordes, esto es aceptable. No extender con dedos para evitar formación de burbujas de aire.\n5. Se recubre el acople con papel aluminio de forma suelta, cara opaca hacia el exterior y se ajustan los extremos del papel con cinta negra al PM y al centellador\n6. Se envuelve el PM y el detector de forma uniforme con cinta negra, tener cuidado con los bordes donde es mas probable entre o se fugue la luz, se debe cubrir perfectamente la superficie del acople. hacerlo primeramente a lo largo y luego a lo ancho.\n7. Montar el PM en la base\n \n \nPoniendo a prueba el detector:\nUsar SHV cable, señales de ns en osciloscopio\n\nPara la fuente, usar ch1, máximo voltaje 2000V, I(ISet) max 507 muA, si se supera este valor el equipo mata el proceso bruscamente (evitar).\n\n\n**Prueba P2 y Q1 simultaneous:**\nSe conectan con SHV a la fuente CAEN y con cables BNC al osciloscópio.\n\nPara los centelladore4s, chequear 1000 V equivale a una corriente de I = 248.4 muA\n\n**Cálculo de eficiencias:**\n\nSe usa discriminador, contador y unidad lógica.\nDe cada detector se divide la señal en dos, una va al osciloscópio y la otra al Discriminador.\n\n\nDiscriminator NIM Model 710, 8 canales\nInput\nSe conecta un LEMO input por canal \nThreshold\nDesde -10mV a -1V, 15 giros ajuste con destornillador\nFront panel test da un voltaje entre el puerto y tierra de 10 veces el threshold establecido.\nOutput\nNegativo NIM\nNormal NIM\nOutput complement\n\nEn los orificios del discriminador el superior es para el Threshold y el inferior para el width\n\n\nCompuerta lógica AND, que es la posición 2, recibe hasta 4 señales,\nOpera a mas de 150 MHz con input overlap times as narrow as 1 nSec\n\nAND está en la segunda posición\n\n## 02/10/25 Determinación del threshold para las paletas centelladoras\nEstudiar el ruido en los detectores para poder elegir un umbral  apropiado.\n",
      "metadata": {
        "jp-MarkdownHeadingCollapsed": true
      }
    },
    {
      "id": "03ee41e4-765c-4230-a276-d1b183984196",
      "cell_type": "markdown",
      "source": "# Para reunión semanal grupo\n\n",
      "metadata": {}
    },
    {
      "id": "f80af052-8140-46f8-a3bb-a779c4b575c0",
      "cell_type": "markdown",
      "source": "# Reuniones Semanales\n## 05/02/2025 Reunión Semana 3\n1. Caracterizar la carga depositada en cada detector, ver tesis Jairo, revisar en esta voltajes umbrales y justificaciones. \n2. Prender GEM y realizar la prueba de eficiencia para un GEM.\n3. Establecer threshold en 50 mV\n4. Definir las variables en los hybrids.\n",
      "metadata": {}
    },
    {
      "id": "0ad3e373-c247-4d80-8dba-6f68fc83b281",
      "cell_type": "markdown",
      "source": "# Trabajo futuro\nQuitar los centelladores",
      "metadata": {}
    },
    {
      "id": "5f2fe3e6-79c6-4075-8f06-58e0272dfbf9",
      "cell_type": "markdown",
      "source": "# plantillas tesis\nhttps://www.overleaf.com/latex/templates/university-of-chicago-phd-dissertation-template/syvxgkqhvqqt\n\nDocumento temporal: https://www.overleaf.com/project/67a65cfc9132789db6f06dd8\n",
      "metadata": {}
    },
    {
      "id": "4ecff0e5-79b1-4f2b-a24b-4613c37c53ff",
      "cell_type": "markdown",
      "source": "# Programming\n\n## Modificación código en script runconversion\n\n### Ciclo generador de configuración",
      "metadata": {}
    },
    {
      "id": "f7dd8d9f-6347-48d4-bd8e-10b48d38dd41",
      "cell_type": "code",
      "source": "#detector plane fec chip\n#Cuantos hybrids usó?\n#El sistema de lectura para el segundo detector debe ser conectado en la FEC 2\n\n#Usar este al ejecutar en terminal.\n#detectors = int(input(\"Ingrese el numero de detectores usados: \"))\n\nhyb=8\ndet=0\nplan=0\nfec=0\nchip=0\n\nplanes=4 \ndetectors=2\n\nprint(\"[\\\\\")\n#Ten cuidado con los tipos de variables pues el computador hace operaciones con numeros y muestra salidas con cadenas\nfor k in range (detectors):\n    plan=0\n    for i in range(2):\n        for j in range(planes):\n            det=k+1\n            fec=k\n            plan=i\n            print(\"[\",det,',',plan,',',fec+1,',',chip,\"],\\\\\") \n            chip = chip+1\nprint(\"]\")  \n    ",
      "metadata": {
        "trusted": true,
        "scrolled": true
      },
      "outputs": [
        {
          "name": "stdout",
          "output_type": "stream",
          "text": "[\\\n[ 1 , 0 , 1 , 0 ],\\\n[ 1 , 0 , 1 , 1 ],\\\n[ 1 , 0 , 1 , 2 ],\\\n[ 1 , 0 , 1 , 3 ],\\\n[ 1 , 1 , 1 , 4 ],\\\n[ 1 , 1 , 1 , 5 ],\\\n[ 1 , 1 , 1 , 6 ],\\\n[ 1 , 1 , 1 , 7 ],\\\n[ 2 , 0 , 2 , 8 ],\\\n[ 2 , 0 , 2 , 9 ],\\\n[ 2 , 0 , 2 , 10 ],\\\n[ 2 , 0 , 2 , 11 ],\\\n[ 2 , 1 , 2 , 12 ],\\\n[ 2 , 1 , 2 , 13 ],\\\n[ 2 , 1 , 2 , 14 ],\\\n[ 2 , 1 , 2 , 15 ],\\\n]\n"
        }
      ],
      "execution_count": 28
    },
    {
      "id": "37d8d95d-2c7c-4363-8548-b5656c67a50a",
      "cell_type": "markdown",
      "source": "### Runconversion versión original",
      "metadata": {}
    },
    {
      "id": "da3df46d-d6b9-42be-a8e6-55d23f3199ca",
      "cell_type": "code",
      "source": "#!/usr/bin/python\nimport os\nimport subprocess\nimport re\nimport sys\n\n# print(os.getcwd())\n\ncurrent_directory=os.getcwd()\n\n\n#print(current_directory+'/'+'GEM4_3800_CabinaRX_300DAC_3mVfC_3fe55_tExp3min.pcapng')\t\n\n# -vmm arguments:\n#  detector plane fec chip\n\n\n# -save arguments:\n#  detector, cluster plane, cluster detector\n\n\ntry:\t\n\targs = ['/home/labhep/sw/vmm-sdat/bin/convertFile',\n\t'-f', current_directory+'/'+'GEM5on_4200V_4Hyb_3Fe55_FEC1_2min.pcapng',\n        '-vmm',\n\t\t'[\\\n\t[1,0,1,0],[1,0,1,1],[1,0,1,2],[1,0,1,3],[1,1,1,4],[1,1,1,5],[1,1,1,6],[1,1,1,7],\\\n\t\t]', #\\ al final de las líneas indica que la línea de código continúa en la siguiente.\n            #El contenido está entre comillas, por lo que Python lo interpreta como una cadena de texto y no como una lista real de Python.\n\t\t\n\t'-axis',\n\t\t'[\\\n\t\t[[1,0],0],[[1,1],0],\\\n\t\t]',\n\t\n        #'-sc', '[[0.391,0.391,1],[0.391,0.391,1]]',\n        #'-tl' , '[[-51.2, -51.2, 100],[-51.2, -51.2, 100]]',\n        #'-ro', '[[0,0,0],[0,0,0]]',\n        #'-tr', '[[S,T,R2],[S,T,R2]]',\n\t\t\n        '-bc', '40',\n\t\t'-tac', '60',\n\t\t'-th', '0',\n\t\t'-cs', '1',\n\t\t'-ccs', '2',\n\t\t'-dt', '200',\n\t\t'-mst', '2',\n\t\t'-spc', '500',\n\t\t'-dp', '200',\n\t\t'-coin', 'center-of-mass',\n\t\t'-crl', '0.5',\n\t\t'-cru', '2',\n        '-save', '[[1,2],[1,2],[1,2]]',\n        '-stats', '1',\n\t\t'-algo', '2',\n\t\t'-info', 'LabHEP',\n\t\t'-df', 'SRS']\n\tsubprocess.call(args)\n\n\nexcept OSError:\n\tpass",
      "metadata": {
        "trusted": true
      },
      "outputs": [
        {
          "output_type": "stream",
          "name": "stdin",
          "text": "Ingrese el nombre del archivo .pcapng:  a\n"
        }
      ],
      "execution_count": 33
    },
    {
      "id": "54d12552-f1fd-4ff0-8332-2d645e3dc88e",
      "cell_type": "markdown",
      "source": "### Modificación\n**¿Qué hicimos aquí?**\nGuardamos los valores en una lista config en lugar de imprimirlos.\nSe usa json.dumps(config) para convertir la lista en un formato adecuado para args.\n\nSe asegura de que args reciba una cadena JSON válida, que es lo que espera el programa con subprocess.call().",
      "metadata": {}
    },
    {
      "id": "a4fa9e89-2367-4ec8-9a4e-49f73adc2f09",
      "cell_type": "code",
      "source": "import json\n\n# Número de detectores ingresados por el usuario\n#detectors = int(input(\"Ingrese el número de detectores usados: \"))\n\ndetectors=2\nhyb = 8\ndet = 0\nplan = 0\nfec = 0\nchip = 0\nplanes = 4  \n\n# Lista para almacenar la configuración\nconfig = []\n\n# Generación de los valores para -vmm\nfor k in range(detectors):\n    for i in range(2):\n        for j in range(planes):\n            det = k + 1\n            fec = k\n            plan = i\n            config.append([det, plan, fec + 1, chip]) \n            chip += 1\n\n# Convertir la lista a formato JSON\nconfig_str = json.dumps(config)\n\n# Verificar la salida\nprint(\"Configuración generada para -vmm:\")\nprint(config_str)\n\n# Ahora puedes usar esta configuración en args\n\n#args = [\n#    '/home/labhep/sw/vmm-sdat/bin/convertFile',\n#    '-f', current_directory + '/' + 'GEM5on_4200V_4Hyb_3Fe55_FEC1_2min.pcapng',\n#    '-vmm', config_str  # Usar la lista generada como string JSON\n#]\n\n",
      "metadata": {
        "trusted": true
      },
      "outputs": [
        {
          "name": "stdout",
          "output_type": "stream",
          "text": "Configuración generada para -vmm:\n[[1, 0, 1, 0], [1, 0, 1, 1], [1, 0, 1, 2], [1, 0, 1, 3], [1, 1, 1, 4], [1, 1, 1, 5], [1, 1, 1, 6], [1, 1, 1, 7], [2, 0, 2, 8], [2, 0, 2, 9], [2, 0, 2, 10], [2, 0, 2, 11], [2, 1, 2, 12], [2, 1, 2, 13], [2, 1, 2, 14], [2, 1, 2, 15]]\n"
        }
      ],
      "execution_count": 31
    },
    {
      "id": "acccf7c3-52db-4771-a7b6-1e467aa6424f",
      "cell_type": "markdown",
      "source": "# Enlaces\n\n\n>[**`Guia`**](https://vmm-srs.docs.cern.ch/operating/vmm-and-srs-infn-rome.pdf) que puede ser un buen lugar para empezar.\n>\n\n\n>Nuevo sitio con información que estaba en el [**`Drive`**](https://drive.google.com/drive/folders/1h5KLMAa7-bxbPoisnip5Adb4mYc2YMdq?usp=drive_link):\n>https://srs-e.web.cern.ch/\n\nLa carpeta en Google Drive contiene principalmente presentaciones relacionadas con los equipos. \n\n### Tesis de doctorado de Lucian\n\n>https://cds.cern.ch/record/2860765/\n\n`El grupo RD51, quienes fueron los que desarrollaron las tarjetas VMM3a y el SRS tienen un servidor de discord.`\n\n\nEn el pasado, el grupo RD51 ha organizado escuelas donde se comparte material en forma de presentaciones que puede ser de ayuda, una de estas escuelas la puede encontrar en el siguiente enlace\n\n>https://indico.cern.ch/event/1071632/contributions/\n\nEn esta escuela, uno de los anteriores analistas del lab presentó los resultados del equipo que tenemos en el lab usado en un haz de muones en el CERN. Esta presentacion la puede encontrar en\n\n>https://indico.cern.ch/event/1071632/contributions/4613300/\n\n\n### Página de documentación de los equipos:\n\n>https://vmm-srs.docs.cern.ch/\n>\n>    En esta pagina de documentación encontramos el video donde Lucian explica la operacion del sistema junto con la operacion del software que construye los clusters\n https://indico.cern.ch/event/1071632/contributions/4615369/attachments/2345888/4000941/VMM-SRS-SoftwareInstallation-Scharenberg.mp4\n\n### Software que se tiene instalado en el computador del lab y que se usa para crear los clusters\n\n> https://github.com/ess-dmsc/vmm-sdat/tree/main\n\n\n\n### Artículos donde se hace uso del equipo (VMM3a+SRS):\n>\n>https://www.sciencedirect.com/science/article/pii/S016890022200153X?via%3Dihub\n>\n>https://ieeexplore.ieee.org/document/9724214\n>\n>https://iopscience.iop.org/article/10.1088/1748-0221/15/08/C08026/meta\n>\n>https://www.sciencedirect.com/science/article/pii/S0168900221005611\n>\n>https://www.sciencedirect.com/science/article/abs/pii/S0168900223001225?via%3Dihub\n\n\n\n\n### Dtectores **GEM**, enlaces que pueden ser de utilidad\n\n> https://www.sciencedirect.com/science/article/pii/S0168900215008980?via%3Dihub\n> \n> https://doi.org/10.1017/CBO9781107337701\n\nCaracterización y prueba de la cámara de ionización Triple-Gem a partir de mounes resultantes de rayos cósmicos (uniandes.edu.co)\n \n> https://doi.org/10.1016/j.nima.2021.165241\n",
      "metadata": {}
    },
    {
      "id": "a1dca808-8392-4249-b5f0-044e85c913bd",
      "cell_type": "code",
      "source": "",
      "metadata": {
        "trusted": true
      },
      "outputs": [],
      "execution_count": null
    }
  ]
}